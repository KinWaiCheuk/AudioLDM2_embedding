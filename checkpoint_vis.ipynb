{
 "cells": [
  {
   "cell_type": "code",
   "execution_count": 8,
   "metadata": {},
   "outputs": [],
   "source": [
    "import torch\n",
    "from audioldm2.latent_diffusion.modules.audiomae.AudioMAE import Vanilla_AudioMAE, AudioMAE"
   ]
  },
  {
   "cell_type": "code",
   "execution_count": 2,
   "metadata": {},
   "outputs": [],
   "source": [
    "checkpoint = torch.load('/root/.cache/huggingface/hub/models--haoheliu--audioldm2-full/snapshots/a1c61356b3b9ecfa534daf5d784a901af463d470/audioldm2-full.pth')"
   ]
  },
  {
   "cell_type": "code",
   "execution_count": 29,
   "metadata": {},
   "outputs": [],
   "source": [
    "audiomae_ckpt = {}\n",
    "for i in checkpoint['state_dict'].keys():\n",
    "    if 'cond_stage_models.0.cond_stage_models.2.audiomae.model.' in i:\n",
    "        # keep the last three strings after dot\n",
    "        mae_i = '.'.join(i.split('.')[5:])\n",
    "        audiomae_ckpt[mae_i] = checkpoint['state_dict'][i]"
   ]
  },
  {
   "cell_type": "code",
   "execution_count": 32,
   "metadata": {},
   "outputs": [],
   "source": [
    "for i in checkpoint['state_dict'].keys():\n",
    "    if 'fc_norm.weight' in i:\n",
    "        # keep the last three strings after dot\n",
    "        mae_i = '.'.join(i.split('.')[5:])\n",
    "        print(mae_i)"
   ]
  },
  {
   "cell_type": "code",
   "execution_count": 10,
   "metadata": {},
   "outputs": [],
   "source": [
    "audio_mae = AudioMAE()"
   ]
  },
  {
   "cell_type": "code",
   "execution_count": 33,
   "metadata": {},
   "outputs": [],
   "source": [
    "van_audio_mae = Vanilla_AudioMAE()"
   ]
  },
  {
   "cell_type": "code",
   "execution_count": 35,
   "metadata": {},
   "outputs": [
    {
     "data": {
      "text/plain": [
       "<All keys matched successfully>"
      ]
     },
     "execution_count": 35,
     "metadata": {},
     "output_type": "execute_result"
    }
   ],
   "source": [
    "van_audio_mae.load_state_dict(audiomae_ckpt)"
   ]
  },
  {
   "cell_type": "code",
   "execution_count": null,
   "metadata": {},
   "outputs": [],
   "source": []
  }
 ],
 "metadata": {
  "kernelspec": {
   "display_name": "audioldm",
   "language": "python",
   "name": "python3"
  },
  "language_info": {
   "codemirror_mode": {
    "name": "ipython",
    "version": 3
   },
   "file_extension": ".py",
   "mimetype": "text/x-python",
   "name": "python",
   "nbconvert_exporter": "python",
   "pygments_lexer": "ipython3",
   "version": "3.8.19"
  }
 },
 "nbformat": 4,
 "nbformat_minor": 2
}
